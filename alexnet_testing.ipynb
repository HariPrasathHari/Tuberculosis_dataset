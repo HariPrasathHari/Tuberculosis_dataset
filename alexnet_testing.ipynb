{
  "nbformat": 4,
  "nbformat_minor": 0,
  "metadata": {
    "colab": {
      "name": "alexnet testing .ipynb",
      "version": "0.3.2",
      "provenance": [],
      "collapsed_sections": []
    },
    "kernelspec": {
      "name": "python3",
      "display_name": "Python 3"
    },
    "accelerator": "GPU"
  },
  "cells": [
    {
      "metadata": {
        "id": "gbOBmFcY8l4d",
        "colab_type": "code",
        "outputId": "22721e81-59b5-486c-ac12-a1f3b88a870d",
        "colab": {
          "base_uri": "https://localhost:8080/",
          "height": 34
        }
      },
      "cell_type": "code",
      "source": [
        "#@title Mount drive /imports. Dynamic fields \n",
        "\n",
        "from google.colab import drive\n",
        "drive.mount('/content/gdrive')\n",
        "\n",
        "import torch\n",
        "from torch.autograd import Variable\n",
        "from torch.autograd import Function\n",
        "from torchvision import models\n",
        "from torchvision import utils\n",
        "import cv2\n",
        "import sys\n",
        "import numpy as np\n",
        "import argparse\n",
        "import torch.nn as nn \n",
        "%matplotlib inline\n",
        "%config InlineBackend.figure_format = 'retina'\n",
        "import matplotlib.pyplot as plt\n",
        "\n",
        "\n",
        "batch_size = 80 #@param {type:\"slider\", min:1, max:100, step:1}\n",
        "\n",
        "load_pretrained_model = False #@param {type:\"boolean\"}\n",
        "\n",
        "train_on_gpu =True #@param {type:\"boolean\"}\n",
        "\n",
        "valid_size =0.2 #@param {type:\"slider\", min:0.1, max:0.5, step:0.05}\n"
      ],
      "execution_count": 0,
      "outputs": [
        {
          "output_type": "stream",
          "text": [
            "Drive already mounted at /content/gdrive; to attempt to forcibly remount, call drive.mount(\"/content/gdrive\", force_remount=True).\n"
          ],
          "name": "stdout"
        }
      ]
    },
    {
      "metadata": {
        "id": "TeTEfVKV8zDs",
        "colab_type": "code",
        "outputId": "092188ba-0d72-4506-fb88-b9fc1b94f7a0",
        "colab": {
          "base_uri": "https://localhost:8080/",
          "height": 170
        }
      },
      "cell_type": "code",
      "source": [
        "#@title load saved model\n",
        "\n",
        "import torch.nn as nn\n",
        "model = models.alexnet(pretrained=True)\n",
        "\n",
        "model.classifier[6] = nn.Linear(4096,2)\n",
        "\n",
        "# model.cuda()\n",
        "\n",
        "\n",
        "state_dict = torch.load('gdrive/My Drive/last.pt')\n",
        "model.load_state_dict(state_dict)\n",
        "# model.cuda()\n",
        "pre_model = model \n",
        "print(model.classifier)\n",
        "\n"
      ],
      "execution_count": 0,
      "outputs": [
        {
          "output_type": "stream",
          "text": [
            "Sequential(\n",
            "  (0): Dropout(p=0.5)\n",
            "  (1): Linear(in_features=9216, out_features=4096, bias=True)\n",
            "  (2): ReLU(inplace)\n",
            "  (3): Dropout(p=0.5)\n",
            "  (4): Linear(in_features=4096, out_features=4096, bias=True)\n",
            "  (5): ReLU(inplace)\n",
            "  (6): Linear(in_features=4096, out_features=2, bias=True)\n",
            ")\n"
          ],
          "name": "stdout"
        }
      ]
    },
    {
      "metadata": {
        "id": "oJNS7tWA9IQM",
        "colab_type": "code",
        "outputId": "072b37c5-51ee-407d-f631-dee791a2054c",
        "colab": {
          "base_uri": "https://localhost:8080/",
          "height": 68
        }
      },
      "cell_type": "code",
      "source": [
        "#@title Transform and Load data \n",
        "import torch\n",
        "import numpy as np\n",
        "import numpy\n",
        "from torchvision import datasets\n",
        "import torchvision.transforms as transforms\n",
        "from torch.utils.data.sampler import SubsetRandomSampler\n",
        "  \n",
        "import matplotlib.pyplot as plt\n",
        "%matplotlib inline\n",
        "\n",
        "transform =  transforms.Compose([\n",
        "#     transforms.Grayscale(num_output_channels=1),\n",
        "    transforms.Resize(255),\n",
        "    transforms.CenterCrop(224),\n",
        "    transforms.ToTensor(),\n",
        "    transforms.Normalize([0.485, 0.456, 0.406], [0.229, 0.224, 0.225])\n",
        "\n",
        "]\n",
        ")\n",
        "dataset =  datasets.ImageFolder(\"gdrive/My Drive/tb\",transform)\n",
        "dataloader = torch.utils.data.DataLoader(dataset,batch_size = batch_size ,shuffle = True)\n",
        "\n",
        "\n",
        "num_train = len(dataset) # 800\n",
        "num_train = 800\n",
        "num_workers = 0 \n",
        "indices = list(range(num_train))\n",
        "np.random.shuffle(indices)\n",
        "split = int(np.floor(valid_size * num_train))\n",
        "train_idx, valid_idx = indices[split:], indices[:split]\n",
        "\n",
        "train_sampler = SubsetRandomSampler(train_idx)\n",
        "valid_sampler = SubsetRandomSampler(valid_idx)\n",
        "\n",
        "train_loader = torch.utils.data.DataLoader(dataset, batch_size=batch_size,\n",
        "    sampler=train_sampler, num_workers=num_workers)\n",
        "valid_loader = torch.utils.data.DataLoader(dataset, batch_size=batch_size, \n",
        "    sampler=valid_sampler, num_workers=num_workers)\n",
        "\n",
        "classes = ['postive','normal']\n",
        "\n",
        "print(len(train_loader))\n",
        "print(len(valid_loader))\n",
        "\n",
        "\n",
        "data_iter = iter(train_loader)\n",
        "images, labels = next(data_iter)\n",
        "print(images.size())\n"
      ],
      "execution_count": 0,
      "outputs": [
        {
          "output_type": "stream",
          "text": [
            "8\n",
            "2\n",
            "torch.Size([80, 3, 224, 224])\n"
          ],
          "name": "stdout"
        }
      ]
    },
    {
      "metadata": {
        "id": "CP_MGk079Scw",
        "colab_type": "code",
        "outputId": "caeb9d11-7860-4b9b-f344-c0e0c78991e9",
        "colab": {
          "base_uri": "https://localhost:8080/",
          "height": 476
        }
      },
      "cell_type": "code",
      "source": [
        "#@title Load saved model def loss/optimizer\n",
        "\n",
        "import torch.optim as optim\n",
        "\n",
        "criterion = nn.CrossEntropyLoss()\n",
        "state_dict = torch.load('gdrive/My Drive/last.pt')\n",
        "model.load_state_dict(state_dict)\n",
        "optimizer = optim.Adam(model.parameters(),lr=0.0001)\n",
        "import os\n",
        "model.cuda()"
      ],
      "execution_count": 0,
      "outputs": [
        {
          "output_type": "execute_result",
          "data": {
            "text/plain": [
              "AlexNet(\n",
              "  (features): Sequential(\n",
              "    (0): Conv2d(3, 64, kernel_size=(11, 11), stride=(4, 4), padding=(2, 2))\n",
              "    (1): ReLU(inplace)\n",
              "    (2): MaxPool2d(kernel_size=3, stride=2, padding=0, dilation=1, ceil_mode=False)\n",
              "    (3): Conv2d(64, 192, kernel_size=(5, 5), stride=(1, 1), padding=(2, 2))\n",
              "    (4): ReLU(inplace)\n",
              "    (5): MaxPool2d(kernel_size=3, stride=2, padding=0, dilation=1, ceil_mode=False)\n",
              "    (6): Conv2d(192, 384, kernel_size=(3, 3), stride=(1, 1), padding=(1, 1))\n",
              "    (7): ReLU(inplace)\n",
              "    (8): Conv2d(384, 256, kernel_size=(3, 3), stride=(1, 1), padding=(1, 1))\n",
              "    (9): ReLU(inplace)\n",
              "    (10): Conv2d(256, 256, kernel_size=(3, 3), stride=(1, 1), padding=(1, 1))\n",
              "    (11): ReLU(inplace)\n",
              "    (12): MaxPool2d(kernel_size=3, stride=2, padding=0, dilation=1, ceil_mode=False)\n",
              "  )\n",
              "  (avgpool): AdaptiveAvgPool2d(output_size=(6, 6))\n",
              "  (classifier): Sequential(\n",
              "    (0): Dropout(p=0.5)\n",
              "    (1): Linear(in_features=9216, out_features=4096, bias=True)\n",
              "    (2): ReLU(inplace)\n",
              "    (3): Dropout(p=0.5)\n",
              "    (4): Linear(in_features=4096, out_features=4096, bias=True)\n",
              "    (5): ReLU(inplace)\n",
              "    (6): Linear(in_features=4096, out_features=2, bias=True)\n",
              "  )\n",
              ")"
            ]
          },
          "metadata": {
            "tags": []
          },
          "execution_count": 16
        }
      ]
    },
    {
      "metadata": {
        "id": "jRtpQnYL9dGW",
        "colab_type": "code",
        "outputId": "72b3e5a2-722f-4c22-9d02-0b3a2b9ec945",
        "colab": {
          "base_uri": "https://localhost:8080/",
          "height": 119
        }
      },
      "cell_type": "code",
      "source": [
        "#@title Track loss and overall\n",
        "test_loss = 0.0\n",
        "class_correct = list(0. for i in range(2))\n",
        "class_total = list(0. for i in range(2))\n",
        "\n",
        "with torch.no_grad():\n",
        "  for data, target in dataloader:\n",
        "      if train_on_gpu:\n",
        "          data, target = data.cuda(), target.cuda()\n",
        "      output = model(data)\n",
        "      loss = criterion(output, target)\n",
        "      test_loss += loss.item()*data.size(0)\n",
        "      _, pred = torch.max(output, 1)    \n",
        "      correct_tensor = pred.eq(target.data.view_as(pred))\n",
        "      correct = np.squeeze(correct_tensor.numpy()) if not train_on_gpu else np.squeeze(correct_tensor.cpu().numpy())\n",
        "      for i in range(data.size(0)):\n",
        "          label = target.data[i]\n",
        "          class_correct[label] += correct[i].item()\n",
        "          class_total[label] += 1\n",
        "\n",
        "  test_loss = test_loss/len(dataloader.dataset)\n",
        "  print('Test Loss: {:.6f}\\n'.format(test_loss))\n",
        "\n",
        "  for i in range(2):\n",
        "      if class_total[i] > 0:\n",
        "          print('over all  Accuracy of %5s: %2d%% (%2d/%2d)' % (\n",
        "              classes[i], 100 * class_correct[i] / class_total[i],\n",
        "              np.sum(class_correct[i]), np.sum(class_total[i])))\n",
        "      else:\n",
        "          print('over all Accuracy of %5s: N/A (no training examples)' % (classes[i]))\n",
        "\n",
        "  print('\\nOver all Accuracy : %2d%% (%2d/%2d)' % (\n",
        "      100. * np.sum(class_correct) / np.sum(class_total),\n",
        "      np.sum(class_correct), np.sum(class_total)))"
      ],
      "execution_count": 0,
      "outputs": [
        {
          "output_type": "stream",
          "text": [
            "Test Loss: 0.360761\n",
            "\n",
            "over all  Accuracy of postive: 88% (358/406)\n",
            "over all  Accuracy of normal: 96% (380/394)\n",
            "\n",
            "Over all Accuracy : 92% (738/800)\n"
          ],
          "name": "stdout"
        }
      ]
    },
    {
      "metadata": {
        "id": "ODwleIV-9hdh",
        "colab_type": "code",
        "outputId": "9f994985-3b22-4680-b793-b08a3397b812",
        "colab": {
          "base_uri": "https://localhost:8080/",
          "height": 119
        }
      },
      "cell_type": "code",
      "source": [
        "#@title Track loss and validationValidation loss decreased (0.107660 --> 0.106642).  Saving model ...\n",
        "test_loss = 0.0\n",
        "class_correct = list(0. for i in range(2))\n",
        "class_total = list(0. for i in range(2))\n",
        "\n",
        "with torch.no_grad():\n",
        "\n",
        "  for data, target in valid_loader:\n",
        "      if train_on_gpu:\n",
        "          data, target = data.cuda(), target.cuda()\n",
        "      output = model(data)\n",
        "      loss = criterion(output, target)\n",
        "      test_loss += loss.item()*data.size(0)\n",
        "      _, pred = torch.max(output, 1)    \n",
        "      correct_tensor = pred.eq(target.data.view_as(pred))\n",
        "      correct = np.squeeze(correct_tensor.numpy()) if not train_on_gpu else np.squeeze(correct_tensor.cpu().numpy())\n",
        "      for i in range(data.size(0)):\n",
        "          label = target.data[i]\n",
        "          class_correct[label] += correct[i].item()\n",
        "          class_total[label] += 1\n",
        "\n",
        "  test_loss = test_loss/len(valid_loader.dataset)\n",
        "  print('Test Loss: {:.6f}\\n'.format(test_loss))\n",
        "\n",
        "  for i in range(2):\n",
        "      if class_total[i] > 0:\n",
        "          print('over all  Accuracy of %5s: %2d%% (%2d/%2d)' % (\n",
        "              classes[i], 100 * class_correct[i] / class_total[i],\n",
        "              np.sum(class_correct[i]), np.sum(class_total[i])))\n",
        "      else:\n",
        "          print('over all Accuracy of %5s: N/A (no training examples)' % (classes[i]))\n",
        "\n",
        "  print('\\nOver all Accuracy : %2d%% (%2d/%2d)' % (\n",
        "      100. * np.sum(class_correct) / np.sum(class_total),\n",
        "      np.sum(class_correct), np.sum(class_total)))"
      ],
      "execution_count": 0,
      "outputs": [
        {
          "output_type": "stream",
          "text": [
            "Test Loss: 0.061374\n",
            "\n",
            "over all  Accuracy of postive: 93% (75/80)\n",
            "over all  Accuracy of normal: 93% (75/80)\n",
            "\n",
            "Over all Accuracy : 93% (150/160)\n"
          ],
          "name": "stdout"
        }
      ]
    },
    {
      "metadata": {
        "id": "QNJRWEWn9iVA",
        "colab_type": "code",
        "outputId": "8d713c72-b258-4702-ef5c-689565816aef",
        "colab": {
          "base_uri": "https://localhost:8080/",
          "height": 119
        }
      },
      "cell_type": "code",
      "source": [
        "#@title Track loss and test\n",
        "test_loss = 0.0\n",
        "class_correct = list(0. for i in range(2))\n",
        "class_total = list(0. for i in range(2))\n",
        "\n",
        "with torch.no_grad():\n",
        "  for data, target in train_loader:\n",
        "      if train_on_gpu:\n",
        "          data, target = data.cuda(), target.cuda()\n",
        "      output = model(data)\n",
        "      loss = criterion(output, target)\n",
        "      test_loss += loss.item()*data.size(0)\n",
        "      _, pred = torch.max(output, 1)    \n",
        "      correct_tensor = pred.eq(target.data.view_as(pred))\n",
        "      correct = np.squeeze(correct_tensor.numpy()) if not train_on_gpu else np.squeeze(correct_tensor.cpu().numpy())\n",
        "      for i in range(data.size(0)):\n",
        "          label = target.data[i]\n",
        "          class_correct[label] += correct[i].item()\n",
        "          class_total[label] += 1\n",
        "\n",
        "  test_loss = test_loss/len(train_loader.dataset)\n",
        "  print('Test Loss: {:.6f}\\n'.format(test_loss))\n",
        "\n",
        "  for i in range(2):\n",
        "      if class_total[i] > 0:\n",
        "          print('over all  Accuracy of %5s: %2d%% (%2d/%2d)' % (\n",
        "              classes[i], 100 * class_correct[i] / class_total[i],\n",
        "              np.sum(class_correct[i]), np.sum(class_total[i])))\n",
        "      else:\n",
        "          print('over all Accuracy of %5s: N/A (no training examples)' % (classes[i]))\n",
        "\n",
        "  print('\\nOver all Accuracy : %2d%% (%2d/%2d)' % (\n",
        "      100. * np.sum(class_correct) / np.sum(class_total),\n",
        "      np.sum(class_correct), np.sum(class_total)))"
      ],
      "execution_count": 0,
      "outputs": [
        {
          "output_type": "stream",
          "text": [
            "Test Loss: 0.314959\n",
            "\n",
            "over all  Accuracy of postive: 90% (294/326)\n",
            "over all  Accuracy of normal: 96% (304/314)\n",
            "\n",
            "Over all Accuracy : 93% (598/640)\n"
          ],
          "name": "stdout"
        }
      ]
    },
    {
      "metadata": {
        "id": "qJH39s2fNw2D",
        "colab_type": "text"
      },
      "cell_type": "markdown",
      "source": [
        ""
      ]
    },
    {
      "metadata": {
        "id": "eLlPwitoPq1r",
        "colab_type": "code",
        "outputId": "19550ae1-a010-4faf-d82b-379cb4dcfad7",
        "colab": {
          "base_uri": "https://localhost:8080/",
          "height": 265
        }
      },
      "cell_type": "code",
      "source": [
        "plt.plot(list(train_los),label=\"train loss\")\n",
        "plt.plot(list(test_los),label='validation loss')\n",
        "plt.legend()\n",
        "plt.show()"
      ],
      "execution_count": 0,
      "outputs": [
        {
          "output_type": "display_data",
          "data": {
            "image/png": "[encoded data removed]",
            "text/plain": [
              "<Figure size 432x288 with 1 Axes>"
            ]
          },
          "metadata": {
            "tags": [],
            "image/png": {
              "width": 370,
              "height": 248
            }
          }
        }
      ]
    },
    {
      "metadata": {
        "id": "wB4Lfo7eP-kj",
        "colab_type": "code",
        "colab": {}
      },
      "cell_type": "code",
      "source": [
        ""
      ],
      "execution_count": 0,
      "outputs": []
    }
  ]
}